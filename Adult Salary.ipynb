{
 "cells": [
  {
   "cell_type": "markdown",
   "metadata": {},
   "source": [
    "# Problem statement:"
   ]
  },
  {
   "cell_type": "markdown",
   "metadata": {},
   "source": [
    "This dataset has 15 columns and 19258 rows. Our task is to analyze the dataset and predict whether the income of an adult will exceed 50k per year or not by developing a supervised machine learning model."
   ]
  },
  {
   "cell_type": "code",
   "execution_count": 44,
   "metadata": {},
   "outputs": [],
   "source": [
    "# Import all the required liabrary\n",
    "import pandas as pd\n",
    "import numpy as np\n",
    "import matplotlib.pyplot as plt\n",
    "import seaborn as sns\n",
    "from sklearn.svm import SVC\n",
    "from sklearn.naive_bayes import GaussianNB\n",
    "from sklearn.neighbors import KNeighborsClassifier\n",
    "from sklearn.tree import DecisionTreeClassifier\n",
    "from sklearn.linear_model import LogisticRegression\n",
    "from sklearn.metrics import accuracy_score,confusion_matrix,classification_report\n"
   ]
  },
  {
   "cell_type": "code",
   "execution_count": 45,
   "metadata": {},
   "outputs": [
    {
     "data": {
      "text/html": [
       "<div>\n",
       "<style scoped>\n",
       "    .dataframe tbody tr th:only-of-type {\n",
       "        vertical-align: middle;\n",
       "    }\n",
       "\n",
       "    .dataframe tbody tr th {\n",
       "        vertical-align: top;\n",
       "    }\n",
       "\n",
       "    .dataframe thead th {\n",
       "        text-align: right;\n",
       "    }\n",
       "</style>\n",
       "<table border=\"1\" class=\"dataframe\">\n",
       "  <thead>\n",
       "    <tr style=\"text-align: right;\">\n",
       "      <th></th>\n",
       "      <th>Age</th>\n",
       "      <th>Workclass</th>\n",
       "      <th>fnlwgt</th>\n",
       "      <th>education</th>\n",
       "      <th>education-num</th>\n",
       "      <th>marital-status</th>\n",
       "      <th>occupation</th>\n",
       "      <th>relationship</th>\n",
       "      <th>race</th>\n",
       "      <th>sex</th>\n",
       "      <th>capital-gain</th>\n",
       "      <th>capital-loss</th>\n",
       "      <th>hours-per-week</th>\n",
       "      <th>native-country</th>\n",
       "      <th>Salary</th>\n",
       "    </tr>\n",
       "  </thead>\n",
       "  <tbody>\n",
       "    <tr>\n",
       "      <th>0</th>\n",
       "      <td>39</td>\n",
       "      <td>State-gov</td>\n",
       "      <td>77516</td>\n",
       "      <td>Bachelors</td>\n",
       "      <td>13.0</td>\n",
       "      <td>Never-married</td>\n",
       "      <td>Adm-clerical</td>\n",
       "      <td>Not-in-family</td>\n",
       "      <td>White</td>\n",
       "      <td>Male</td>\n",
       "      <td>2174.0</td>\n",
       "      <td>0</td>\n",
       "      <td>40.0</td>\n",
       "      <td>United-States</td>\n",
       "      <td>&lt;=50K</td>\n",
       "    </tr>\n",
       "    <tr>\n",
       "      <th>1</th>\n",
       "      <td>50</td>\n",
       "      <td>Self-emp-not-inc</td>\n",
       "      <td>83311</td>\n",
       "      <td>Bachelors</td>\n",
       "      <td>13.0</td>\n",
       "      <td>Married-civ-spouse</td>\n",
       "      <td>Exec-managerial</td>\n",
       "      <td>Husband</td>\n",
       "      <td>White</td>\n",
       "      <td>Male</td>\n",
       "      <td>0.0</td>\n",
       "      <td>0</td>\n",
       "      <td>13.0</td>\n",
       "      <td>United-States</td>\n",
       "      <td>&lt;=50K</td>\n",
       "    </tr>\n",
       "    <tr>\n",
       "      <th>2</th>\n",
       "      <td>38</td>\n",
       "      <td>Private</td>\n",
       "      <td>215646</td>\n",
       "      <td>HS-grad</td>\n",
       "      <td>9.0</td>\n",
       "      <td>Divorced</td>\n",
       "      <td>Handlers-cleaners</td>\n",
       "      <td>Not-in-family</td>\n",
       "      <td>White</td>\n",
       "      <td>Male</td>\n",
       "      <td>0.0</td>\n",
       "      <td>0</td>\n",
       "      <td>40.0</td>\n",
       "      <td>United-States</td>\n",
       "      <td>&lt;=50K</td>\n",
       "    </tr>\n",
       "    <tr>\n",
       "      <th>3</th>\n",
       "      <td>53</td>\n",
       "      <td>Private</td>\n",
       "      <td>234721</td>\n",
       "      <td>11th</td>\n",
       "      <td>7.0</td>\n",
       "      <td>Married-civ-spouse</td>\n",
       "      <td>Handlers-cleaners</td>\n",
       "      <td>Husband</td>\n",
       "      <td>Black</td>\n",
       "      <td>Male</td>\n",
       "      <td>0.0</td>\n",
       "      <td>0</td>\n",
       "      <td>40.0</td>\n",
       "      <td>United-States</td>\n",
       "      <td>&lt;=50K</td>\n",
       "    </tr>\n",
       "    <tr>\n",
       "      <th>4</th>\n",
       "      <td>28</td>\n",
       "      <td>Private</td>\n",
       "      <td>338409</td>\n",
       "      <td>Bachelors</td>\n",
       "      <td>13.0</td>\n",
       "      <td>Married-civ-spouse</td>\n",
       "      <td>Prof-specialty</td>\n",
       "      <td>Wife</td>\n",
       "      <td>Black</td>\n",
       "      <td>Female</td>\n",
       "      <td>0.0</td>\n",
       "      <td>0</td>\n",
       "      <td>40.0</td>\n",
       "      <td>Cuba</td>\n",
       "      <td>&lt;=50K</td>\n",
       "    </tr>\n",
       "    <tr>\n",
       "      <th>5</th>\n",
       "      <td>37</td>\n",
       "      <td>Private</td>\n",
       "      <td>284582</td>\n",
       "      <td>Masters</td>\n",
       "      <td>14.0</td>\n",
       "      <td>Married-civ-spouse</td>\n",
       "      <td>Exec-managerial</td>\n",
       "      <td>Wife</td>\n",
       "      <td>White</td>\n",
       "      <td>Female</td>\n",
       "      <td>0.0</td>\n",
       "      <td>0</td>\n",
       "      <td>40.0</td>\n",
       "      <td>United-States</td>\n",
       "      <td>&lt;=50K</td>\n",
       "    </tr>\n",
       "    <tr>\n",
       "      <th>6</th>\n",
       "      <td>49</td>\n",
       "      <td>Private</td>\n",
       "      <td>160187</td>\n",
       "      <td>9th</td>\n",
       "      <td>5.0</td>\n",
       "      <td>Married-spouse-absent</td>\n",
       "      <td>Other-service</td>\n",
       "      <td>Not-in-family</td>\n",
       "      <td>Black</td>\n",
       "      <td>Female</td>\n",
       "      <td>0.0</td>\n",
       "      <td>0</td>\n",
       "      <td>16.0</td>\n",
       "      <td>Jamaica</td>\n",
       "      <td>&lt;=50K</td>\n",
       "    </tr>\n",
       "    <tr>\n",
       "      <th>7</th>\n",
       "      <td>52</td>\n",
       "      <td>Self-emp-not-inc</td>\n",
       "      <td>209642</td>\n",
       "      <td>HS-grad</td>\n",
       "      <td>9.0</td>\n",
       "      <td>Married-civ-spouse</td>\n",
       "      <td>Exec-managerial</td>\n",
       "      <td>Husband</td>\n",
       "      <td>White</td>\n",
       "      <td>Male</td>\n",
       "      <td>0.0</td>\n",
       "      <td>0</td>\n",
       "      <td>45.0</td>\n",
       "      <td>United-States</td>\n",
       "      <td>&gt;50K</td>\n",
       "    </tr>\n",
       "    <tr>\n",
       "      <th>8</th>\n",
       "      <td>31</td>\n",
       "      <td>Private</td>\n",
       "      <td>45781</td>\n",
       "      <td>Masters</td>\n",
       "      <td>14.0</td>\n",
       "      <td>Never-married</td>\n",
       "      <td>Prof-specialty</td>\n",
       "      <td>Not-in-family</td>\n",
       "      <td>White</td>\n",
       "      <td>Female</td>\n",
       "      <td>14084.0</td>\n",
       "      <td>0</td>\n",
       "      <td>50.0</td>\n",
       "      <td>United-States</td>\n",
       "      <td>&gt;50K</td>\n",
       "    </tr>\n",
       "    <tr>\n",
       "      <th>9</th>\n",
       "      <td>42</td>\n",
       "      <td>Private</td>\n",
       "      <td>159449</td>\n",
       "      <td>Bachelors</td>\n",
       "      <td>13.0</td>\n",
       "      <td>Married-civ-spouse</td>\n",
       "      <td>Exec-managerial</td>\n",
       "      <td>Husband</td>\n",
       "      <td>White</td>\n",
       "      <td>Male</td>\n",
       "      <td>5178.0</td>\n",
       "      <td>0</td>\n",
       "      <td>40.0</td>\n",
       "      <td>United-States</td>\n",
       "      <td>&gt;50K</td>\n",
       "    </tr>\n",
       "  </tbody>\n",
       "</table>\n",
       "</div>"
      ],
      "text/plain": [
       "  Age          Workclass  fnlwgt   education  education-num  \\\n",
       "0  39          State-gov   77516   Bachelors           13.0   \n",
       "1  50   Self-emp-not-inc   83311   Bachelors           13.0   \n",
       "2  38            Private  215646     HS-grad            9.0   \n",
       "3  53            Private  234721        11th            7.0   \n",
       "4  28            Private  338409   Bachelors           13.0   \n",
       "5  37            Private  284582     Masters           14.0   \n",
       "6  49            Private  160187         9th            5.0   \n",
       "7  52   Self-emp-not-inc  209642     HS-grad            9.0   \n",
       "8  31            Private   45781     Masters           14.0   \n",
       "9  42            Private  159449   Bachelors           13.0   \n",
       "\n",
       "           marital-status          occupation    relationship    race  \\\n",
       "0           Never-married        Adm-clerical   Not-in-family   White   \n",
       "1      Married-civ-spouse     Exec-managerial         Husband   White   \n",
       "2                Divorced   Handlers-cleaners   Not-in-family   White   \n",
       "3      Married-civ-spouse   Handlers-cleaners         Husband   Black   \n",
       "4      Married-civ-spouse      Prof-specialty            Wife   Black   \n",
       "5      Married-civ-spouse     Exec-managerial            Wife   White   \n",
       "6   Married-spouse-absent       Other-service   Not-in-family   Black   \n",
       "7      Married-civ-spouse     Exec-managerial         Husband   White   \n",
       "8           Never-married      Prof-specialty   Not-in-family   White   \n",
       "9      Married-civ-spouse     Exec-managerial         Husband   White   \n",
       "\n",
       "       sex  capital-gain capital-loss  hours-per-week  native-country  Salary  \n",
       "0     Male        2174.0            0            40.0   United-States   <=50K  \n",
       "1     Male           0.0            0            13.0   United-States   <=50K  \n",
       "2     Male           0.0            0            40.0   United-States   <=50K  \n",
       "3     Male           0.0            0            40.0   United-States   <=50K  \n",
       "4   Female           0.0            0            40.0            Cuba   <=50K  \n",
       "5   Female           0.0            0            40.0   United-States   <=50K  \n",
       "6   Female           0.0            0            16.0         Jamaica   <=50K  \n",
       "7     Male           0.0            0            45.0   United-States    >50K  \n",
       "8   Female       14084.0            0            50.0   United-States    >50K  \n",
       "9     Male        5178.0            0            40.0   United-States    >50K  "
      ]
     },
     "execution_count": 45,
     "metadata": {},
     "output_type": "execute_result"
    }
   ],
   "source": [
    "#Load Adult Train Data Set\n",
    "df = pd.read_csv(\"C:/Users/acer/Desktop/Data Science/Data Sets/Adult/train.csv\")\n",
    "df.head(10)"
   ]
  },
  {
   "cell_type": "markdown",
   "metadata": {},
   "source": [
    "# Analyzing the data:"
   ]
  },
  {
   "cell_type": "markdown",
   "metadata": {},
   "source": [
    "Let’s start analyzing the data provided. We need to know the number of columns, rows, null objects, etc. So, let’s open the  data and start counting the columns, get the row count, go through each row to find out any special characters or null values in it, find out the data type of each column provided."
   ]
  },
  {
   "cell_type": "code",
   "execution_count": 46,
   "metadata": {},
   "outputs": [
    {
     "data": {
      "text/plain": [
       "(19258, 15)"
      ]
     },
     "execution_count": 46,
     "metadata": {},
     "output_type": "execute_result"
    }
   ],
   "source": [
    "df.shape"
   ]
  },
  {
   "cell_type": "code",
   "execution_count": 47,
   "metadata": {},
   "outputs": [
    {
     "data": {
      "text/plain": [
       "Age                object\n",
       "Workclass          object\n",
       "fnlwgt             object\n",
       "education          object\n",
       "education-num     float64\n",
       "marital-status     object\n",
       "occupation         object\n",
       "relationship       object\n",
       "race               object\n",
       "sex                object\n",
       "capital-gain      float64\n",
       "capital-loss       object\n",
       "hours-per-week    float64\n",
       "native-country     object\n",
       "Salary             object\n",
       "dtype: object"
      ]
     },
     "execution_count": 47,
     "metadata": {},
     "output_type": "execute_result"
    }
   ],
   "source": [
    "df.dtypes"
   ]
  },
  {
   "cell_type": "code",
   "execution_count": 48,
   "metadata": {},
   "outputs": [
    {
     "data": {
      "text/plain": [
       "Age               0\n",
       "Workclass         6\n",
       "fnlwgt            6\n",
       "education         6\n",
       "education-num     6\n",
       "marital-status    6\n",
       "occupation        6\n",
       "relationship      7\n",
       "race              7\n",
       "sex               8\n",
       "capital-gain      8\n",
       "capital-loss      8\n",
       "hours-per-week    9\n",
       "native-country    9\n",
       "Salary            9\n",
       "dtype: int64"
      ]
     },
     "execution_count": 48,
     "metadata": {},
     "output_type": "execute_result"
    }
   ],
   "source": [
    "#Check if any missing value present in data\n",
    "df.isnull().sum()"
   ]
  },
  {
   "cell_type": "code",
   "execution_count": 49,
   "metadata": {},
   "outputs": [],
   "source": [
    "#train data is enough so we remove missing rows\n",
    "df = df.dropna(axis=0)"
   ]
  },
  {
   "cell_type": "code",
   "execution_count": 50,
   "metadata": {},
   "outputs": [
    {
     "data": {
      "text/plain": [
       "Age               0\n",
       "Workclass         0\n",
       "fnlwgt            0\n",
       "education         0\n",
       "education-num     0\n",
       "marital-status    0\n",
       "occupation        0\n",
       "relationship      0\n",
       "race              0\n",
       "sex               0\n",
       "capital-gain      0\n",
       "capital-loss      0\n",
       "hours-per-week    0\n",
       "native-country    0\n",
       "Salary            0\n",
       "dtype: int64"
      ]
     },
     "execution_count": 50,
     "metadata": {},
     "output_type": "execute_result"
    }
   ],
   "source": [
    "#Check if any special character present in data\n",
    "df.isin(['?']).sum()"
   ]
  },
  {
   "cell_type": "markdown",
   "metadata": {},
   "source": [
    "# Feature Engineering:"
   ]
  },
  {
   "cell_type": "markdown",
   "metadata": {},
   "source": [
    "Machine Learning model requires input data in numerical notations to extract patterns from it and make predictions. But, not all the data provided in our source dataset is numerical. Some of the data provided are Categorical data like WorkClass, Education, Marital-Status, Occupation, Relationship, etc. we need to convert these into numerical notations.\n",
    "Here data is nothing but a feature that our model uses as an input. So, we perform Feature Engineering on our data to create meaningful numerical data out of the source dataset."
   ]
  },
  {
   "cell_type": "markdown",
   "metadata": {},
   "source": [
    "To maintain the brevity of the article and to avoid irrelevant data for our model, we will avoid the less unique or noisy features from our input data. This helps us to refine our features to identify the independent variables. But, this might not apply to all datasets, it depends on what kind of data you are dealing with and how important is the feature."
   ]
  },
  {
   "cell_type": "code",
   "execution_count": 51,
   "metadata": {},
   "outputs": [
    {
     "name": "stdout",
     "output_type": "stream",
     "text": [
      "---- Age ---\n",
      "23    540\n",
      "31    536\n",
      "33    526\n",
      "37    521\n",
      "36    519\n",
      "     ... \n",
      "82      7\n",
      "84      6\n",
      "83      4\n",
      "85      2\n",
      "88      1\n",
      "Name: Age, Length: 71, dtype: int64\n",
      "---- Workclass ---\n",
      " Private             13364\n",
      " Self-emp-not-inc     1541\n",
      " Local-gov            1257\n",
      " ?                    1084\n",
      " State-gov             747\n",
      " Self-emp-inc          663\n",
      " Federal-gov           585\n",
      " Without-pay             5\n",
      " Never-worked            3\n",
      "Name: Workclass, dtype: int64\n",
      "---- fnlwgt ---\n",
      "190290    10\n",
      "186934     9\n",
      "164190     9\n",
      "241998     9\n",
      "125933     8\n",
      "          ..\n",
      "152375     1\n",
      "269243     1\n",
      "229418     1\n",
      "342599     1\n",
      "176050     1\n",
      "Name: fnlwgt, Length: 14563, dtype: int64\n",
      "---- education ---\n",
      " HS-grad         6263\n",
      " Some-college    4297\n",
      " Bachelors       3189\n",
      " Masters         1011\n",
      " Assoc-voc        827\n",
      " 11th             693\n",
      " Assoc-acdm       621\n",
      " 10th             566\n",
      " 7th-8th          381\n",
      " Prof-school      322\n",
      " 9th              301\n",
      " Doctorate        240\n",
      " 12th             233\n",
      " 5th-6th          186\n",
      " 1st-4th           95\n",
      " Preschool         24\n",
      "Name: education, dtype: int64\n",
      "---- education-num ---\n",
      "9.0     6263\n",
      "10.0    4297\n",
      "13.0    3189\n",
      "14.0    1011\n",
      "11.0     827\n",
      "7.0      693\n",
      "12.0     621\n",
      "6.0      566\n",
      "4.0      381\n",
      "15.0     322\n",
      "5.0      301\n",
      "16.0     240\n",
      "8.0      233\n",
      "3.0      186\n",
      "2.0       95\n",
      "1.0       24\n",
      "Name: education-num, dtype: int64\n",
      "---- marital-status ---\n",
      " Married-civ-spouse       8803\n",
      " Never-married            6340\n",
      " Divorced                 2636\n",
      " Widowed                   604\n",
      " Separated                 600\n",
      " Married-spouse-absent     251\n",
      " Married-AF-spouse          15\n",
      "Name: marital-status, dtype: int64\n",
      "---- occupation ---\n",
      " Prof-specialty       2455\n",
      " Craft-repair         2399\n",
      " Exec-managerial      2363\n",
      " Adm-clerical         2308\n",
      " Sales                2183\n",
      " Other-service        1943\n",
      " Machine-op-inspct    1192\n",
      " ?                    1087\n",
      " Transport-moving      944\n",
      " Handlers-cleaners     776\n",
      " Farming-fishing       568\n",
      " Tech-support          548\n",
      " Protective-serv       379\n",
      " Priv-house-serv        97\n",
      " Armed-Forces            7\n",
      "Name: occupation, dtype: int64\n",
      "---- relationship ---\n",
      " Husband           7736\n",
      " Not-in-family     4982\n",
      " Own-child         3000\n",
      " Unmarried         2008\n",
      " Wife               948\n",
      " Other-relative     575\n",
      "Name: relationship, dtype: int64\n",
      "---- race ---\n",
      " White                 16459\n",
      " Black                  1842\n",
      " Asian-Pac-Islander      596\n",
      " Amer-Indian-Eskimo      187\n",
      " Other                   165\n",
      "Name: race, dtype: int64\n",
      "---- sex ---\n",
      " Male      12855\n",
      " Female     6394\n",
      "Name: sex, dtype: int64\n",
      "---- capital-gain ---\n",
      "0.0        17662\n",
      "15024.0      196\n",
      "7688.0       166\n",
      "7298.0       147\n",
      "99999.0       94\n",
      "           ...  \n",
      "1111.0         1\n",
      "4931.0         1\n",
      "1424.0         1\n",
      "1173.0         1\n",
      "1639.0         1\n",
      "Name: capital-gain, Length: 116, dtype: int64\n",
      "---- capital-loss ---\n",
      "0       18333\n",
      "1902      127\n",
      "1977      101\n",
      "1887       87\n",
      "1876       32\n",
      "        ...  \n",
      "1844        1\n",
      "2457        1\n",
      "2489        1\n",
      "2282        1\n",
      "2149        1\n",
      "Name: capital-loss, Length: 86, dtype: int64\n",
      "---- hours-per-week ---\n",
      "40.0    9025\n",
      "50.0    1660\n",
      "45.0    1052\n",
      "60.0     891\n",
      "35.0     763\n",
      "        ... \n",
      "92.0       1\n",
      "94.0       1\n",
      "73.0       1\n",
      "91.0       1\n",
      "87.0       1\n",
      "Name: hours-per-week, Length: 90, dtype: int64\n",
      "---- native-country ---\n",
      " United-States                 17248\n",
      " Mexico                          378\n",
      " ?                               347\n",
      " Philippines                     110\n",
      " Canada                           82\n",
      " Germany                          79\n",
      " Puerto-Rico                      71\n",
      " Cuba                             62\n",
      " England                          58\n",
      " El-Salvador                      52\n",
      " India                            50\n",
      " Jamaica                          49\n",
      " South                            47\n",
      " China                            44\n",
      " Guatemala                        42\n",
      " Dominican-Republic               42\n",
      " Italy                            42\n",
      " Poland                           42\n",
      " Japan                            41\n",
      " Vietnam                          40\n",
      " Columbia                         33\n",
      " Taiwan                           32\n",
      " Haiti                            30\n",
      " Iran                             30\n",
      " Portugal                         22\n",
      " Nicaragua                        20\n",
      " Greece                           17\n",
      " Ireland                          16\n",
      " Ecuador                          16\n",
      " Peru                             14\n",
      " France                           12\n",
      " Cambodia                         12\n",
      " Yugoslavia                        9\n",
      " Hong                              9\n",
      " Thailand                          8\n",
      " Honduras                          8\n",
      " Trinadad&Tobago                   7\n",
      " Scotland                          7\n",
      " Outlying-US(Guam-USVI-etc)        7\n",
      " Hungary                           7\n",
      " Laos                              6\n",
      " Holand-Netherlands                1\n",
      "Name: native-country, dtype: int64\n",
      "---- Salary ---\n",
      " <=50K    14640\n",
      " >50K      4609\n",
      "Name: Salary, dtype: int64\n"
     ]
    }
   ],
   "source": [
    "#Get the count of Salary (classes:>50K, <=50K.)\n",
    "for c in df.columns:\n",
    "    print(\"---- %s ---\" % c)\n",
    "    print(df[c].value_counts())"
   ]
  },
  {
   "cell_type": "markdown",
   "metadata": {},
   "source": [
    "Here we ran a for loop over all the columns using the .value_counts() function of Pandas which gets us the count of unique values. We can see that some of the data provided are unique like the ‘workclass’ attribute which has only 7 distinct values and some columns have a lot of distinct values like fnlgwt attribute which has around 2000+ values.\n",
    "So, let’s drop the attributes that have noisy data."
   ]
  },
  {
   "cell_type": "code",
   "execution_count": 52,
   "metadata": {},
   "outputs": [],
   "source": [
    "#dropping the columns based on uniquness\n",
    "\n",
    "df.drop(['education-num','Age','hours-per-week','fnlwgt','capital-gain','capital-loss','native-country'],axis=1,inplace=True)"
   ]
  },
  {
   "cell_type": "markdown",
   "metadata": {},
   "source": [
    "Using the map function, we can convert all the other categorical data in the dataset to numerical data"
   ]
  },
  {
   "cell_type": "code",
   "execution_count": 53,
   "metadata": {},
   "outputs": [
    {
     "data": {
      "text/html": [
       "<div>\n",
       "<style scoped>\n",
       "    .dataframe tbody tr th:only-of-type {\n",
       "        vertical-align: middle;\n",
       "    }\n",
       "\n",
       "    .dataframe tbody tr th {\n",
       "        vertical-align: top;\n",
       "    }\n",
       "\n",
       "    .dataframe thead th {\n",
       "        text-align: right;\n",
       "    }\n",
       "</style>\n",
       "<table border=\"1\" class=\"dataframe\">\n",
       "  <thead>\n",
       "    <tr style=\"text-align: right;\">\n",
       "      <th></th>\n",
       "      <th>Workclass</th>\n",
       "      <th>education</th>\n",
       "      <th>marital-status</th>\n",
       "      <th>occupation</th>\n",
       "      <th>relationship</th>\n",
       "      <th>race</th>\n",
       "      <th>sex</th>\n",
       "      <th>Salary</th>\n",
       "    </tr>\n",
       "  </thead>\n",
       "  <tbody>\n",
       "    <tr>\n",
       "      <th>0</th>\n",
       "      <td>7</td>\n",
       "      <td>9</td>\n",
       "      <td>4</td>\n",
       "      <td>1</td>\n",
       "      <td>1</td>\n",
       "      <td>4</td>\n",
       "      <td>1</td>\n",
       "      <td>0</td>\n",
       "    </tr>\n",
       "    <tr>\n",
       "      <th>1</th>\n",
       "      <td>6</td>\n",
       "      <td>9</td>\n",
       "      <td>2</td>\n",
       "      <td>4</td>\n",
       "      <td>0</td>\n",
       "      <td>4</td>\n",
       "      <td>1</td>\n",
       "      <td>0</td>\n",
       "    </tr>\n",
       "    <tr>\n",
       "      <th>2</th>\n",
       "      <td>4</td>\n",
       "      <td>11</td>\n",
       "      <td>0</td>\n",
       "      <td>6</td>\n",
       "      <td>1</td>\n",
       "      <td>4</td>\n",
       "      <td>1</td>\n",
       "      <td>0</td>\n",
       "    </tr>\n",
       "    <tr>\n",
       "      <th>3</th>\n",
       "      <td>4</td>\n",
       "      <td>1</td>\n",
       "      <td>2</td>\n",
       "      <td>6</td>\n",
       "      <td>0</td>\n",
       "      <td>2</td>\n",
       "      <td>1</td>\n",
       "      <td>0</td>\n",
       "    </tr>\n",
       "    <tr>\n",
       "      <th>4</th>\n",
       "      <td>4</td>\n",
       "      <td>9</td>\n",
       "      <td>2</td>\n",
       "      <td>10</td>\n",
       "      <td>5</td>\n",
       "      <td>2</td>\n",
       "      <td>0</td>\n",
       "      <td>0</td>\n",
       "    </tr>\n",
       "    <tr>\n",
       "      <th>...</th>\n",
       "      <td>...</td>\n",
       "      <td>...</td>\n",
       "      <td>...</td>\n",
       "      <td>...</td>\n",
       "      <td>...</td>\n",
       "      <td>...</td>\n",
       "      <td>...</td>\n",
       "      <td>...</td>\n",
       "    </tr>\n",
       "    <tr>\n",
       "      <th>19252</th>\n",
       "      <td>4</td>\n",
       "      <td>11</td>\n",
       "      <td>2</td>\n",
       "      <td>1</td>\n",
       "      <td>5</td>\n",
       "      <td>4</td>\n",
       "      <td>0</td>\n",
       "      <td>0</td>\n",
       "    </tr>\n",
       "    <tr>\n",
       "      <th>19253</th>\n",
       "      <td>4</td>\n",
       "      <td>11</td>\n",
       "      <td>4</td>\n",
       "      <td>1</td>\n",
       "      <td>3</td>\n",
       "      <td>4</td>\n",
       "      <td>0</td>\n",
       "      <td>0</td>\n",
       "    </tr>\n",
       "    <tr>\n",
       "      <th>19254</th>\n",
       "      <td>6</td>\n",
       "      <td>11</td>\n",
       "      <td>2</td>\n",
       "      <td>3</td>\n",
       "      <td>0</td>\n",
       "      <td>4</td>\n",
       "      <td>1</td>\n",
       "      <td>0</td>\n",
       "    </tr>\n",
       "    <tr>\n",
       "      <th>19255</th>\n",
       "      <td>6</td>\n",
       "      <td>11</td>\n",
       "      <td>2</td>\n",
       "      <td>14</td>\n",
       "      <td>0</td>\n",
       "      <td>4</td>\n",
       "      <td>1</td>\n",
       "      <td>0</td>\n",
       "    </tr>\n",
       "    <tr>\n",
       "      <th>19256</th>\n",
       "      <td>6</td>\n",
       "      <td>9</td>\n",
       "      <td>4</td>\n",
       "      <td>12</td>\n",
       "      <td>1</td>\n",
       "      <td>4</td>\n",
       "      <td>1</td>\n",
       "      <td>0</td>\n",
       "    </tr>\n",
       "  </tbody>\n",
       "</table>\n",
       "<p>19249 rows × 8 columns</p>\n",
       "</div>"
      ],
      "text/plain": [
       "       Workclass  education  marital-status  occupation  relationship  race  \\\n",
       "0              7          9               4           1             1     4   \n",
       "1              6          9               2           4             0     4   \n",
       "2              4         11               0           6             1     4   \n",
       "3              4          1               2           6             0     2   \n",
       "4              4          9               2          10             5     2   \n",
       "...          ...        ...             ...         ...           ...   ...   \n",
       "19252          4         11               2           1             5     4   \n",
       "19253          4         11               4           1             3     4   \n",
       "19254          6         11               2           3             0     4   \n",
       "19255          6         11               2          14             0     4   \n",
       "19256          6          9               4          12             1     4   \n",
       "\n",
       "       sex  Salary  \n",
       "0        1       0  \n",
       "1        1       0  \n",
       "2        1       0  \n",
       "3        1       0  \n",
       "4        0       0  \n",
       "...    ...     ...  \n",
       "19252    0       0  \n",
       "19253    0       0  \n",
       "19254    1       0  \n",
       "19255    1       0  \n",
       "19256    1       0  \n",
       "\n",
       "[19249 rows x 8 columns]"
      ]
     },
     "execution_count": 53,
     "metadata": {},
     "output_type": "execute_result"
    }
   ],
   "source": [
    "#Encode the categorical data values\n",
    "from sklearn.preprocessing import LabelEncoder\n",
    "label = LabelEncoder()\n",
    "df['Workclass'] = label.fit_transform(df['Workclass'].values)\n",
    "df['education'] = label.fit_transform(df['education'].values)\n",
    "df['marital-status'] = label.fit_transform(df['marital-status'].values)\n",
    "df['occupation'] = label.fit_transform(df['occupation'].values)\n",
    "df['relationship'] = label.fit_transform(df['relationship'].values)\n",
    "df['race'] = label.fit_transform(df['race'].values)\n",
    "df['sex'] = label.fit_transform(df['sex'].values)\n",
    "df['Salary'] = label.fit_transform(df['Salary'].values)\n",
    "\n",
    "df"
   ]
  },
  {
   "cell_type": "markdown",
   "metadata": {},
   "source": [
    "So, here we are finally at our all numerical notations dataset. which can be now fed into any ML predictive modeling algorithm. Before we try to do that we should visualize the data and look for any correlations we can derive between the variables of our dataset."
   ]
  },
  {
   "cell_type": "markdown",
   "metadata": {},
   "source": [
    "# Data Visualization: "
   ]
  },
  {
   "cell_type": "markdown",
   "metadata": {},
   "source": [
    "Here we would try to find out a relation between each column of the final numerical dataset and the target attribute income. This can be achieved by creating a Bar graph between income and each of the other columns."
   ]
  },
  {
   "cell_type": "code",
   "execution_count": 54,
   "metadata": {},
   "outputs": [
    {
     "data": {
      "text/plain": [
       "<matplotlib.axes._subplots.AxesSubplot at 0x22806014608>"
      ]
     },
     "execution_count": 54,
     "metadata": {},
     "output_type": "execute_result"
    },
    {
     "data": {
      "image/png": "[encoded data removed]",
      "text/plain": [
       "<Figure size 432x288 with 1 Axes>"
      ]
     },
     "metadata": {
      "needs_background": "light"
     },
     "output_type": "display_data"
    }
   ],
   "source": [
    "#see the relationship of education and income\n",
    "df.groupby('education').Salary.mean().plot(kind='bar')"
   ]
  },
  {
   "cell_type": "code",
   "execution_count": 55,
   "metadata": {},
   "outputs": [
    {
     "data": {
      "text/plain": [
       "<matplotlib.axes._subplots.AxesSubplot at 0x22807713dc8>"
      ]
     },
     "execution_count": 55,
     "metadata": {},
     "output_type": "execute_result"
    },
    {
     "data": {
      "image/png": "[encoded data removed]",
      "text/plain": [
       "<Figure size 432x288 with 1 Axes>"
      ]
     },
     "metadata": {
      "needs_background": "light"
     },
     "output_type": "display_data"
    }
   ],
   "source": [
    "#see the relationship of workclass and income\n",
    "df.groupby('Workclass').Salary.mean().plot(kind='bar')"
   ]
  },
  {
   "cell_type": "code",
   "execution_count": 56,
   "metadata": {},
   "outputs": [
    {
     "data": {
      "text/plain": [
       "<matplotlib.axes._subplots.AxesSubplot at 0x22807028408>"
      ]
     },
     "execution_count": 56,
     "metadata": {},
     "output_type": "execute_result"
    },
    {
     "data": {
      "image/png": "[encoded data removed]",
      "text/plain": [
       "<Figure size 432x288 with 1 Axes>"
      ]
     },
     "metadata": {
      "needs_background": "light"
     },
     "output_type": "display_data"
    }
   ],
   "source": [
    "#see the relationship of Race and income\n",
    "df.groupby('race').Salary.mean().plot(kind='bar')"
   ]
  },
  {
   "cell_type": "code",
   "execution_count": 57,
   "metadata": {},
   "outputs": [
    {
     "data": {
      "text/plain": [
       "<matplotlib.axes._subplots.AxesSubplot at 0x2280709a208>"
      ]
     },
     "execution_count": 57,
     "metadata": {},
     "output_type": "execute_result"
    },
    {
     "data": {
      "image/png": "[encoded data removed]",
      "text/plain": [
       "<Figure size 432x288 with 1 Axes>"
      ]
     },
     "metadata": {
      "needs_background": "light"
     },
     "output_type": "display_data"
    }
   ],
   "source": [
    "#see the relationship of Sex and income\n",
    "df.groupby('sex').Salary.mean().plot(kind='bar')"
   ]
  },
  {
   "cell_type": "code",
   "execution_count": 58,
   "metadata": {},
   "outputs": [
    {
     "data": {
      "text/plain": [
       "<matplotlib.axes._subplots.AxesSubplot at 0x22807101148>"
      ]
     },
     "execution_count": 58,
     "metadata": {},
     "output_type": "execute_result"
    },
    {
     "data": {
      "image/png": "[encoded data removed]",
      "text/plain": [
       "<Figure size 432x288 with 1 Axes>"
      ]
     },
     "metadata": {
      "needs_background": "light"
     },
     "output_type": "display_data"
    }
   ],
   "source": [
    "#see the relationship of Relationship and income\n",
    "df.groupby('relationship').Salary.mean().plot(kind='bar')"
   ]
  },
  {
   "cell_type": "code",
   "execution_count": 59,
   "metadata": {},
   "outputs": [
    {
     "data": {
      "text/plain": [
       "<matplotlib.axes._subplots.AxesSubplot at 0x2280716dd88>"
      ]
     },
     "execution_count": 59,
     "metadata": {},
     "output_type": "execute_result"
    },
    {
     "data": {
      "image/png": "[encoded data removed]",
      "text/plain": [
       "<Figure size 432x288 with 1 Axes>"
      ]
     },
     "metadata": {
      "needs_background": "light"
     },
     "output_type": "display_data"
    }
   ],
   "source": [
    "#see the relationship of Occupation and income\n",
    "df.groupby('occupation').Salary.mean().plot(kind='bar')"
   ]
  },
  {
   "cell_type": "markdown",
   "metadata": {},
   "source": [
    "# By these visualizations, we can deduce some correlations between our independent attributes and dependent attribute:"
   ]
  },
  {
   "cell_type": "markdown",
   "metadata": {},
   "source": [
    "\n",
    "1) Adults with an educational background of Prof-school (7) and Doctorate (10) will have a better income and it is likely possible that their income is higher than 50K.\n",
    "\n",
    "2) Self-emp-in (0), Federal-gov(2) workclass groups have a higher chance of earning more than 50K.\n",
    "\n",
    "3) As per the data, an Asian-Pac-Islander (1) or a white (3) have more chances of earning more than 50K.\n",
    "\n",
    "4) The gender bar chart provides us some useful insight into the data that Men (0) are more likely to have a higher income.\n",
    "\n",
    "5) relationship chart shows us that wife (1) and husband (4) has a higher income. A married couple would most likely earn >50K.\n",
    "\n",
    "6) Our data suggest that people with occupation Prof-specialty (5) and Exec-managerial (7) will have a better chance of earning an income of more than 50K."
   ]
  },
  {
   "cell_type": "markdown",
   "metadata": {},
   "source": [
    "We can see that all of our numerical attributes have some influence on our target variable income. So, we should create an ML model by feeding all of our numerical data as input to it."
   ]
  },
  {
   "cell_type": "markdown",
   "metadata": {},
   "source": [
    "# Model Selection:"
   ]
  },
  {
   "cell_type": "markdown",
   "metadata": {},
   "source": [
    "There are around 60+ predictive modeling algorithms that are available to choose from. We must have a good understanding of our data and the desired solution we are looking for, to narrow down our model selection. Here our goal is to predict the income which can either be 0 or 1 ( less than 50K or greater than 50K) and we want to identify a relation between our output (income) and remaining independent features ( education, workclass, gender, etc. ). This scenario is a classic example of Classification (classify whether income is <50K or more ).\n",
    "\n",
    "\n",
    "We are provided with 48K rows of the labeled dataset tagged with the output column “income” to train our model. Whenever the dataset is labeled and output feature is known, we opt for the Supervised Learning Machine Learning technique. So, our use-case is a Supervised Learning plus Classification problem. Based on these criteria we can narrow down our choice of models to a few:\n",
    "\n",
    "Logistic Regression\n",
    "\n",
    "KNN or k-Nearest Neighbors\n",
    "\n",
    "Support Vector Machines\n",
    "\n",
    "Naive Bayes classifier\n",
    "\n",
    "Decision Tree\n"
   ]
  },
  {
   "cell_type": "markdown",
   "metadata": {},
   "source": [
    "# Identifying features:"
   ]
  },
  {
   "cell_type": "markdown",
   "metadata": {},
   "source": [
    "Here we are dividing our data into a dependent feature that is income as df_y and independent features that are relationship, race, occupation, gender, marital, workclass as df_x."
   ]
  },
  {
   "cell_type": "code",
   "execution_count": 60,
   "metadata": {},
   "outputs": [],
   "source": [
    "y = pd.DataFrame(df.Salary)\n",
    "x = df.drop(['Salary'],axis=1)"
   ]
  },
  {
   "cell_type": "markdown",
   "metadata": {},
   "source": [
    "# Splitting Data:"
   ]
  },
  {
   "cell_type": "markdown",
   "metadata": {},
   "source": [
    " we split our data into a test set and train set using train_test_split() which helps to better train the model and test its performance. test_size=0.33 creates a test data set with 33% of the data we have and the remaining 67% percent will be our training set to train our model. This split function returns us a pair of the train set (x_train,y_train) and a pair of the test set (x_test,y_test)."
   ]
  },
  {
   "cell_type": "code",
   "execution_count": 61,
   "metadata": {},
   "outputs": [],
   "source": [
    "# split the data set into training (67%) and testing (33%)\n",
    "from sklearn.model_selection import train_test_split\n",
    "\n",
    "x_train,x_test,y_train,y_test = train_test_split(x, y, test_size = .33 , random_state = 42)\n"
   ]
  },
  {
   "cell_type": "code",
   "execution_count": 62,
   "metadata": {},
   "outputs": [
    {
     "name": "stderr",
     "output_type": "stream",
     "text": [
      "C:\\ProgramData\\Anaconda3\\lib\\site-packages\\sklearn\\utils\\validation.py:760: DataConversionWarning: A column-vector y was passed when a 1d array was expected. Please change the shape of y to (n_samples, ), for example using ravel().\n",
      "  y = column_or_1d(y, warn=True)\n"
     ]
    },
    {
     "name": "stdout",
     "output_type": "stream",
     "text": [
      "accuaracy score of 0.7509837871871556\n",
      "[[4754   65]\n",
      " [1517   17]]\n",
      "              precision    recall  f1-score   support\n",
      "\n",
      "           0       0.76      0.99      0.86      4819\n",
      "           1       0.21      0.01      0.02      1534\n",
      "\n",
      "    accuracy                           0.75      6353\n",
      "   macro avg       0.48      0.50      0.44      6353\n",
      "weighted avg       0.63      0.75      0.66      6353\n",
      "\n",
      "\n",
      "\n",
      "accuaracy score of 0.8115850779159453\n",
      "[[4339  480]\n",
      " [ 717  817]]\n",
      "              precision    recall  f1-score   support\n",
      "\n",
      "           0       0.86      0.90      0.88      4819\n",
      "           1       0.63      0.53      0.58      1534\n",
      "\n",
      "    accuracy                           0.81      6353\n",
      "   macro avg       0.74      0.72      0.73      6353\n",
      "weighted avg       0.80      0.81      0.81      6353\n",
      "\n",
      "\n",
      "\n"
     ]
    },
    {
     "name": "stderr",
     "output_type": "stream",
     "text": [
      "C:\\ProgramData\\Anaconda3\\lib\\site-packages\\ipykernel_launcher.py:4: DataConversionWarning: A column-vector y was passed when a 1d array was expected. Please change the shape of y to (n_samples, ), for example using ravel().\n",
      "  after removing the cwd from sys.path.\n"
     ]
    },
    {
     "name": "stdout",
     "output_type": "stream",
     "text": [
      "accuaracy score of 0.7919093341728317\n",
      "[[4299  520]\n",
      " [ 802  732]]\n",
      "              precision    recall  f1-score   support\n",
      "\n",
      "           0       0.84      0.89      0.87      4819\n",
      "           1       0.58      0.48      0.53      1534\n",
      "\n",
      "    accuracy                           0.79      6353\n",
      "   macro avg       0.71      0.68      0.70      6353\n",
      "weighted avg       0.78      0.79      0.78      6353\n",
      "\n",
      "\n",
      "\n",
      "accuaracy score of 0.7479930741382024\n",
      "[[3714 1105]\n",
      " [ 496 1038]]\n",
      "              precision    recall  f1-score   support\n",
      "\n",
      "           0       0.88      0.77      0.82      4819\n",
      "           1       0.48      0.68      0.56      1534\n",
      "\n",
      "    accuracy                           0.75      6353\n",
      "   macro avg       0.68      0.72      0.69      6353\n",
      "weighted avg       0.79      0.75      0.76      6353\n",
      "\n",
      "\n",
      "\n"
     ]
    },
    {
     "name": "stderr",
     "output_type": "stream",
     "text": [
      "C:\\ProgramData\\Anaconda3\\lib\\site-packages\\sklearn\\naive_bayes.py:206: DataConversionWarning: A column-vector y was passed when a 1d array was expected. Please change the shape of y to (n_samples, ), for example using ravel().\n",
      "  y = column_or_1d(y, warn=True)\n",
      "C:\\ProgramData\\Anaconda3\\lib\\site-packages\\sklearn\\utils\\validation.py:760: DataConversionWarning: A column-vector y was passed when a 1d array was expected. Please change the shape of y to (n_samples, ), for example using ravel().\n",
      "  y = column_or_1d(y, warn=True)\n"
     ]
    },
    {
     "name": "stdout",
     "output_type": "stream",
     "text": [
      "accuaracy score of 0.7585392727845113\n",
      "[[4819    0]\n",
      " [1534    0]]\n",
      "              precision    recall  f1-score   support\n",
      "\n",
      "           0       0.76      1.00      0.86      4819\n",
      "           1       0.00      0.00      0.00      1534\n",
      "\n",
      "    accuracy                           0.76      6353\n",
      "   macro avg       0.38      0.50      0.43      6353\n",
      "weighted avg       0.58      0.76      0.65      6353\n",
      "\n",
      "\n",
      "\n"
     ]
    },
    {
     "name": "stderr",
     "output_type": "stream",
     "text": [
      "C:\\ProgramData\\Anaconda3\\lib\\site-packages\\sklearn\\metrics\\_classification.py:1272: UndefinedMetricWarning: Precision and F-score are ill-defined and being set to 0.0 in labels with no predicted samples. Use `zero_division` parameter to control this behavior.\n",
      "  _warn_prf(average, modifier, msg_start, len(result))\n"
     ]
    }
   ],
   "source": [
    "model = [LogisticRegression(),DecisionTreeClassifier(),KNeighborsClassifier(n_neighbors=5),GaussianNB(),SVC()]\n",
    "\n",
    "for m in model:\n",
    "    m.fit(x_train,y_train)\n",
    "    m.score(x_train,y_train)\n",
    "    predm = m.predict(x_test)\n",
    "    print('accuaracy score of',accuracy_score(y_test,predm))\n",
    "    print(confusion_matrix(y_test,predm))\n",
    "    print(classification_report(y_test,predm))\n",
    "    print('\\n')"
   ]
  },
  {
   "cell_type": "markdown",
   "metadata": {},
   "source": [
    "# we can observe that all algorithem worked very well."
   ]
  },
  {
   "cell_type": "markdown",
   "metadata": {},
   "source": [
    "Accuracy score of all algorithems are as given:-\n",
    "\n",
    "Accuracy score of Logistic Regression is 75%\n",
    "\n",
    "Accuracy score of Decision Tree Classifier is 81%\n",
    "\n",
    "Accuracy score of K Neighbors Classifier is 79%\n",
    "\n",
    "Accuracy score of GaussianNB is 74% \n",
    "\n",
    "Accuracy score of SVC is 75%"
   ]
  },
  {
   "cell_type": "markdown",
   "metadata": {},
   "source": [
    "Hence we can say that out all algorithems Decision Tree Classifier is best for this problem till now.\n"
   ]
  },
  {
   "cell_type": "markdown",
   "metadata": {},
   "source": [
    "# Save the model using Pickle"
   ]
  },
  {
   "cell_type": "code",
   "execution_count": 63,
   "metadata": {},
   "outputs": [
    {
     "name": "stdout",
     "output_type": "stream",
     "text": [
      "accuaracy score of 0.8126869195655596\n",
      "[[4348  471]\n",
      " [ 719  815]]\n",
      "              precision    recall  f1-score   support\n",
      "\n",
      "           0       0.86      0.90      0.88      4819\n",
      "           1       0.63      0.53      0.58      1534\n",
      "\n",
      "    accuracy                           0.81      6353\n",
      "   macro avg       0.75      0.72      0.73      6353\n",
      "weighted avg       0.80      0.81      0.81      6353\n",
      "\n",
      "\n",
      "\n"
     ]
    }
   ],
   "source": [
    "#create model (Decision Tree Classifier)\n",
    "m = DecisionTreeClassifier()\n",
    "m.fit(x_train,y_train)\n",
    "m.score(x_train,y_train)\n",
    "predm = m.predict(x_test)\n",
    "print('accuaracy score of',accuracy_score(y_test,predm))\n",
    "print(confusion_matrix(y_test,predm))\n",
    "print(classification_report(y_test,predm))\n",
    "print('\\n')"
   ]
  },
  {
   "cell_type": "code",
   "execution_count": 64,
   "metadata": {},
   "outputs": [],
   "source": [
    "# Save the model using pickle\n",
    "import pickle\n",
    "\n",
    "filename = \"picklesvcfile.pkl\"\n",
    "pickle.dump(svc, open(filename, 'wb'))\n"
   ]
  },
  {
   "cell_type": "code",
   "execution_count": 65,
   "metadata": {},
   "outputs": [
    {
     "data": {
      "text/plain": [
       "array([0, 0, 0, ..., 0, 0, 0])"
      ]
     },
     "execution_count": 65,
     "metadata": {},
     "output_type": "execute_result"
    }
   ],
   "source": [
    "# predict using the saved model by pickle\n",
    "\n",
    "loaded_model = pickle.load(open(\"picklesvcfile.pkl\", 'rb'))\n",
    "\n",
    "loaded_model.predict(x_test)"
   ]
  },
  {
   "cell_type": "markdown",
   "metadata": {},
   "source": [
    "# Conclusion:"
   ]
  },
  {
   "cell_type": "markdown",
   "metadata": {},
   "source": [
    "we achieved highest accuracy score of 81% by using Decision Tree Clasifier which is good for any machine learning prediction model particularly for a classification regression problem.\n",
    "Finally! we successfully created a classification Machine Learning prediction model using Python and its powerful libraries which predicts whether a given adult’s income will be >50K or not."
   ]
  },
  {
   "cell_type": "code",
   "execution_count": null,
   "metadata": {},
   "outputs": [],
   "source": []
  }
 ],
 "metadata": {
  "kernelspec": {
   "display_name": "Python 3",
   "language": "python",
   "name": "python3"
  },
  "language_info": {
   "codemirror_mode": {
    "name": "ipython",
    "version": 3
   },
   "file_extension": ".py",
   "mimetype": "text/x-python",
   "name": "python",
   "nbconvert_exporter": "python",
   "pygments_lexer": "ipython3",
   "version": "3.7.6"
  }
 },
 "nbformat": 4,
 "nbformat_minor": 4
}
