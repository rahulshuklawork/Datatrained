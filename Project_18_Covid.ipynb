{
 "cells": [
  {
   "cell_type": "markdown",
   "metadata": {},
   "source": [
    "# Problem statement:\n",
    "This dataset has total 9 columns and 6603 rows. Our task is to analyze the dataset and predict the expected covid cases of by developing a Timeseries model."
   ]
  },
  {
   "cell_type": "code",
   "execution_count": 2,
   "metadata": {},
   "outputs": [],
   "source": [
    "import numpy as np\n",
    "import pandas as pd\n",
    "import sklearn \n",
    "import seaborn as sns\n",
    "import matplotlib.pyplot as plt\n",
    "import datetime as dt\n",
    "from datetime import timedelta\n",
    "from sklearn.linear_model import LinearRegression\n",
    "from sklearn.svm import SVR\n",
    "from statsmodels.tsa.api import Holt"
   ]
  },
  {
   "cell_type": "code",
   "execution_count": 3,
   "metadata": {},
   "outputs": [
    {
     "data": {
      "text/html": [
       "<div>\n",
       "<style scoped>\n",
       "    .dataframe tbody tr th:only-of-type {\n",
       "        vertical-align: middle;\n",
       "    }\n",
       "\n",
       "    .dataframe tbody tr th {\n",
       "        vertical-align: top;\n",
       "    }\n",
       "\n",
       "    .dataframe thead th {\n",
       "        text-align: right;\n",
       "    }\n",
       "</style>\n",
       "<table border=\"1\" class=\"dataframe\">\n",
       "  <thead>\n",
       "    <tr style=\"text-align: right;\">\n",
       "      <th></th>\n",
       "      <th>Date</th>\n",
       "      <th>Country</th>\n",
       "      <th>Population</th>\n",
       "      <th>Total Tests</th>\n",
       "      <th>Total Cases</th>\n",
       "      <th>Total Deaths</th>\n",
       "      <th>Total Recovered</th>\n",
       "      <th>Serious or Critical</th>\n",
       "      <th>Active Cases</th>\n",
       "    </tr>\n",
       "  </thead>\n",
       "  <tbody>\n",
       "    <tr>\n",
       "      <th>0</th>\n",
       "      <td>2020-04-18</td>\n",
       "      <td>USA</td>\n",
       "      <td>330774664</td>\n",
       "      <td>3722145.0</td>\n",
       "      <td>738792.0</td>\n",
       "      <td>39014.0</td>\n",
       "      <td>68269.0</td>\n",
       "      <td>13551.0</td>\n",
       "      <td>631509.0</td>\n",
       "    </tr>\n",
       "    <tr>\n",
       "      <th>1</th>\n",
       "      <td>2020-04-18</td>\n",
       "      <td>Russia</td>\n",
       "      <td>145927292</td>\n",
       "      <td>1831892.0</td>\n",
       "      <td>36793.0</td>\n",
       "      <td>313.0</td>\n",
       "      <td>3057.0</td>\n",
       "      <td>8.0</td>\n",
       "      <td>33423.0</td>\n",
       "    </tr>\n",
       "    <tr>\n",
       "      <th>2</th>\n",
       "      <td>2020-04-18</td>\n",
       "      <td>Spain</td>\n",
       "      <td>46752703</td>\n",
       "      <td>930230.0</td>\n",
       "      <td>194416.0</td>\n",
       "      <td>20043.0</td>\n",
       "      <td>74797.0</td>\n",
       "      <td>7371.0</td>\n",
       "      <td>99576.0</td>\n",
       "    </tr>\n",
       "    <tr>\n",
       "      <th>3</th>\n",
       "      <td>2020-04-18</td>\n",
       "      <td>Brazil</td>\n",
       "      <td>212380932</td>\n",
       "      <td>62985.0</td>\n",
       "      <td>36722.0</td>\n",
       "      <td>2361.0</td>\n",
       "      <td>14026.0</td>\n",
       "      <td>6634.0</td>\n",
       "      <td>20335.0</td>\n",
       "    </tr>\n",
       "    <tr>\n",
       "      <th>4</th>\n",
       "      <td>2020-04-18</td>\n",
       "      <td>UK</td>\n",
       "      <td>67844241</td>\n",
       "      <td>460437.0</td>\n",
       "      <td>114217.0</td>\n",
       "      <td>15464.0</td>\n",
       "      <td>NaN</td>\n",
       "      <td>1559.0</td>\n",
       "      <td>98409.0</td>\n",
       "    </tr>\n",
       "  </tbody>\n",
       "</table>\n",
       "</div>"
      ],
      "text/plain": [
       "         Date Country  Population  Total Tests  Total Cases  Total Deaths  \\\n",
       "0  2020-04-18     USA   330774664    3722145.0     738792.0       39014.0   \n",
       "1  2020-04-18  Russia   145927292    1831892.0      36793.0         313.0   \n",
       "2  2020-04-18   Spain    46752703     930230.0     194416.0       20043.0   \n",
       "3  2020-04-18  Brazil   212380932      62985.0      36722.0        2361.0   \n",
       "4  2020-04-18      UK    67844241     460437.0     114217.0       15464.0   \n",
       "\n",
       "   Total Recovered  Serious or Critical  Active Cases  \n",
       "0          68269.0              13551.0      631509.0  \n",
       "1           3057.0                  8.0       33423.0  \n",
       "2          74797.0               7371.0       99576.0  \n",
       "3          14026.0               6634.0       20335.0  \n",
       "4              NaN               1559.0       98409.0  "
      ]
     },
     "execution_count": 3,
     "metadata": {},
     "output_type": "execute_result"
    }
   ],
   "source": [
    "covid = pd.read_csv('worldometer_snapshots_April18_to_May18.csv')\n",
    "covid.head()"
   ]
  },
  {
   "cell_type": "markdown",
   "metadata": {},
   "source": [
    "# Analyzing the data:\n",
    "Let’s start analyzing the data provided. We need to know the number of columns, rows, null objects, etc. So, let’s open the data and start counting the columns, get the row count, go through each row to find out any special characters or null values in it, find out the data type of each column provided."
   ]
  },
  {
   "cell_type": "code",
   "execution_count": 4,
   "metadata": {},
   "outputs": [
    {
     "data": {
      "text/plain": [
       "(6603, 9)"
      ]
     },
     "execution_count": 4,
     "metadata": {},
     "output_type": "execute_result"
    }
   ],
   "source": [
    "covid.shape"
   ]
  },
  {
   "cell_type": "code",
   "execution_count": 5,
   "metadata": {},
   "outputs": [
    {
     "data": {
      "text/plain": [
       "Date                      0\n",
       "Country                   0\n",
       "Population                0\n",
       "Total Tests            1098\n",
       "Total Cases              49\n",
       "Total Deaths           1236\n",
       "Total Recovered         285\n",
       "Serious or Critical    2486\n",
       "Active Cases             59\n",
       "dtype: int64"
      ]
     },
     "execution_count": 5,
     "metadata": {},
     "output_type": "execute_result"
    }
   ],
   "source": [
    "covid.isnull().sum()"
   ]
  },
  {
   "cell_type": "code",
   "execution_count": 6,
   "metadata": {},
   "outputs": [
    {
     "data": {
      "text/plain": [
       "Date                    object\n",
       "Country                 object\n",
       "Population               int64\n",
       "Total Tests            float64\n",
       "Total Cases            float64\n",
       "Total Deaths           float64\n",
       "Total Recovered        float64\n",
       "Serious or Critical    float64\n",
       "Active Cases           float64\n",
       "dtype: object"
      ]
     },
     "execution_count": 6,
     "metadata": {},
     "output_type": "execute_result"
    }
   ],
   "source": [
    "covid.dtypes"
   ]
  },
  {
   "cell_type": "code",
   "execution_count": 7,
   "metadata": {},
   "outputs": [],
   "source": [
    "covid['Date'] = pd.to_datetime(covid['Date'])"
   ]
  },
  {
   "cell_type": "code",
   "execution_count": 8,
   "metadata": {},
   "outputs": [
    {
     "data": {
      "text/plain": [
       "Date                   datetime64[ns]\n",
       "Country                        object\n",
       "Population                      int64\n",
       "Total Tests                   float64\n",
       "Total Cases                   float64\n",
       "Total Deaths                  float64\n",
       "Total Recovered               float64\n",
       "Serious or Critical           float64\n",
       "Active Cases                  float64\n",
       "dtype: object"
      ]
     },
     "execution_count": 8,
     "metadata": {},
     "output_type": "execute_result"
    }
   ],
   "source": [
    "covid.dtypes"
   ]
  },
  {
   "cell_type": "markdown",
   "metadata": {},
   "source": [
    "# Data Visualization:\n",
    "Here we would try to find out a relation between each column of the final numerical dataset and the target attribute income. This can be achieved by creating a Bar graph between income and each of the other columns."
   ]
  },
  {
   "cell_type": "code",
   "execution_count": 10,
   "metadata": {},
   "outputs": [],
   "source": [
    "datewise = covid.groupby(['Date']).agg({'Total Cases':'sum','Total Recovered':'sum','Total Deaths':'sum'})"
   ]
  },
  {
   "cell_type": "code",
   "execution_count": 11,
   "metadata": {},
   "outputs": [
    {
     "name": "stdout",
     "output_type": "stream",
     "text": [
      "Basic Information\n",
      "Total number of Confirmed cases around the world 4887403.0\n",
      "Total number of Recoverd cases around the world 1904016.0\n",
      "Total number of Deaths around the world 319950.0\n",
      "Total number of Active cases around the world 2663437.0\n",
      "Total number of Closed cases around the world 2223966.0\n"
     ]
    }
   ],
   "source": [
    "print(\"Basic Information\")\n",
    "print(\"Total number of Confirmed cases around the world\", datewise[\"Total Cases\"].iloc[-1])\n",
    "print(\"Total number of Recoverd cases around the world\", datewise[\"Total Recovered\"].iloc[-1])\n",
    "print(\"Total number of Deaths around the world\", datewise[\"Total Deaths\"].iloc[-1])\n",
    "print(\"Total number of Active cases around the world\", datewise[\"Total Cases\"].iloc[-1]-datewise[\"Total Recovered\"].iloc[-1]-datewise[\"Total Deaths\"].iloc[-1])\n",
    "print(\"Total number of Closed cases around the world\", datewise[\"Total Recovered\"].iloc[-1]+datewise[\"Total Deaths\"].iloc[-1])"
   ]
  },
  {
   "cell_type": "code",
   "execution_count": 12,
   "metadata": {},
   "outputs": [
    {
     "data": {
      "text/plain": [
       "(array([ 0,  1,  2,  3,  4,  5,  6,  7,  8,  9, 10, 11, 12, 13, 14, 15, 16,\n",
       "        17, 18, 19, 20, 21, 22, 23, 24, 25, 26, 27, 28, 29, 30]),\n",
       " <a list of 31 Text xticklabel objects>)"
      ]
     },
     "execution_count": 12,
     "metadata": {},
     "output_type": "execute_result"
    },
    {
     "data": {
      "image/png": "[encoded data removed]",
      "text/plain": [
       "<Figure size 1080x360 with 1 Axes>"
      ]
     },
     "metadata": {
      "needs_background": "light"
     },
     "output_type": "display_data"
    }
   ],
   "source": [
    "plt.figure(figsize=(15,5))\n",
    "sns.barplot(x=datewise.index.date,y=datewise[\"Total Cases\"]-datewise[\"Total Recovered\"]-datewise[\"Total Deaths\"])\n",
    "plt.title(\"Distribution plot for active cases\")\n",
    "plt.xticks(rotation=90)"
   ]
  },
  {
   "cell_type": "code",
   "execution_count": 14,
   "metadata": {},
   "outputs": [
    {
     "data": {
      "text/plain": [
       "(array([  0,   1,   2,   3,   4,   5,   6,   7,   8,   9,  10,  11,  12,\n",
       "         13,  14,  15,  16,  17,  18,  19,  20,  21,  22,  23,  24,  25,\n",
       "         26,  27,  28,  29,  30,  31,  32,  33,  34,  35,  36,  37,  38,\n",
       "         39,  40,  41,  42,  43,  44,  45,  46,  47,  48,  49,  50,  51,\n",
       "         52,  53,  54,  55,  56,  57,  58,  59,  60,  61,  62,  63,  64,\n",
       "         65,  66,  67,  68,  69,  70,  71,  72,  73,  74,  75,  76,  77,\n",
       "         78,  79,  80,  81,  82,  83,  84,  85,  86,  87,  88,  89,  90,\n",
       "         91,  92,  93,  94,  95,  96,  97,  98,  99, 100, 101, 102, 103,\n",
       "        104, 105, 106, 107, 108, 109, 110, 111, 112, 113, 114, 115, 116,\n",
       "        117, 118, 119, 120, 121, 122, 123, 124, 125]),\n",
       " <a list of 126 Text xticklabel objects>)"
      ]
     },
     "execution_count": 14,
     "metadata": {},
     "output_type": "execute_result"
    },
    {
     "data": {
      "image/png": "[encoded data removed]",
      "text/plain": [
       "<Figure size 1080x360 with 1 Axes>"
      ]
     },
     "metadata": {
      "needs_background": "light"
     },
     "output_type": "display_data"
    }
   ],
   "source": [
    "plt.figure(figsize=(15,5))\n",
    "sns.barplot(x=datewise.index.date,y=datewise[\"Recovered\"]+datewise[\"Deaths\"])\n",
    "plt.title(\"Distribution plot for Closed cases\")\n",
    "plt.xticks(rotation=90)"
   ]
  },
  {
   "cell_type": "code",
   "execution_count": 13,
   "metadata": {},
   "outputs": [
    {
     "data": {
      "text/plain": [
       "Text(0.5, 1.0, 'weekly progress of diffrent types of cases  ')"
      ]
     },
     "execution_count": 13,
     "metadata": {},
     "output_type": "execute_result"
    },
    {
     "data": {
      "image/png": "[encoded data removed]",
      "text/plain": [
       "<Figure size 576x360 with 1 Axes>"
      ]
     },
     "metadata": {
      "needs_background": "light"
     },
     "output_type": "display_data"
    }
   ],
   "source": [
    "datewise[\"weekofyear\"] = datewise.index.weekofyear\n",
    "week_num = []\n",
    "weekwise_confirmed = []\n",
    "weekwise_recovered =[]\n",
    "weekwise_deaths = []\n",
    "w = 1\n",
    "for i in list(datewise['weekofyear'].unique()):\n",
    "    weekwise_confirmed.append(datewise[datewise[\"weekofyear\"]==i][\"Total Cases\"].iloc[-1])\n",
    "    weekwise_recovered.append(datewise[datewise[\"weekofyear\"]==i][\"Total Recovered\"].iloc[-1])\n",
    "    weekwise_deaths.append(datewise[datewise[\"weekofyear\"]==i][\"Total Deaths\"].iloc[-1])\n",
    "    week_num.append(w)\n",
    "    w=w+1\n",
    "plt.figure(figsize=(8,5))\n",
    "plt.plot(week_num,weekwise_confirmed,linewidth=3)\n",
    "plt.plot(week_num,weekwise_recovered,linewidth=3)\n",
    "plt.plot(week_num,weekwise_deaths,linewidth=3)\n",
    "plt.xlabel(\"week Number\")\n",
    "plt.ylabel(\"Number of cases\")\n",
    "plt.title(\"weekly progress of diffrent types of cases  \")\n",
    "    "
   ]
  },
  {
   "cell_type": "code",
   "execution_count": 14,
   "metadata": {},
   "outputs": [
    {
     "data": {
      "image/png": "[encoded data removed]",
      "text/plain": [
       "<Figure size 864x288 with 2 Axes>"
      ]
     },
     "metadata": {
      "needs_background": "light"
     },
     "output_type": "display_data"
    }
   ],
   "source": [
    "fig,(ax1,ax2) = plt.subplots(1,2,figsize=(12,4))\n",
    "sns.barplot(x = week_num, y = pd.Series(weekwise_confirmed).diff().fillna(0),ax=ax1)\n",
    "sns.barplot(x = week_num, y = pd.Series(weekwise_deaths).diff().fillna(0),ax=ax2)\n",
    "ax1.set_xlabel(\"week Number\")\n",
    "ax2.set_xlabel(\"week Number\")\n",
    "ax1.set_ylabel(\"Number of Confirmed cases\")\n",
    "ax2.set_ylabel(\"Number of Deaths cases\")\n",
    "plt.show()"
   ]
  },
  {
   "cell_type": "code",
   "execution_count": 16,
   "metadata": {},
   "outputs": [
    {
     "name": "stdout",
     "output_type": "stream",
     "text": [
      "Average increse in number of confirmed cases everyday 82495.0\n",
      "Average increse in number of recovered cases everyday 42218.0\n",
      "Average increse in number of deaths cases everyday 5159.0\n"
     ]
    },
    {
     "data": {
      "text/plain": [
       "(array([737532., 737536., 737540., 737544., 737546., 737550., 737554.,\n",
       "        737558., 737562.]),\n",
       " <a list of 9 Text xticklabel objects>)"
      ]
     },
     "execution_count": 16,
     "metadata": {},
     "output_type": "execute_result"
    },
    {
     "data": {
      "image/png": "[encoded data removed]",
      "text/plain": [
       "<Figure size 1080x432 with 1 Axes>"
      ]
     },
     "metadata": {
      "needs_background": "light"
     },
     "output_type": "display_data"
    }
   ],
   "source": [
    "print(\"Average increse in number of confirmed cases everyday\",np.round(datewise[\"Total Cases\"].diff().fillna(0).mean()))\n",
    "print(\"Average increse in number of recovered cases everyday\",np.round(datewise[\"Total Recovered\"].diff().fillna(0).mean()))\n",
    "print(\"Average increse in number of deaths cases everyday\",np.round(datewise[\"Total Deaths\"].diff().fillna(0).mean()))\n",
    "\n",
    "plt.figure(figsize=(15,6))\n",
    "plt.plot(datewise[\"Total Cases\"].diff().fillna(0),label=\"daily increase in confirmed cases\")\n",
    "plt.plot(datewise[\"Total Recovered\"].diff().fillna(0),label=\"daily increase in Recovered cases\")\n",
    "plt.plot(datewise[\"Total Deaths\"].diff().fillna(0),label=\"daily increase in Deaths cases\")\n",
    "plt.xlabel(\"Time Stamp\")\n",
    "plt.ylabel(\"Daily increase\")\n",
    "plt.title(\"Daily increase\")\n",
    "plt.legend()\n",
    "plt.xticks(rotation =90)"
   ]
  },
  {
   "cell_type": "code",
   "execution_count": 17,
   "metadata": {},
   "outputs": [],
   "source": [
    "#Country wise analysis\n",
    "#Calculating country wise mortality rate\n",
    "\n",
    "countrywise = covid[covid[\"Date\"] == covid[\"Date\"].max()].groupby([\"Country\"]).agg({'Total Cases':'sum','Total Recovered':'sum','Total Deaths':'sum'}).sort_values([\"Total Cases\"],ascending=False)\n",
    "countrywise[\"Mortality\"] = (countrywise['Total Deaths']/countrywise['Total Recovered'])*100\n",
    "countrywise[\"Recovered\"] = (countrywise['Total Recovered']/countrywise['Total Cases'])*100"
   ]
  },
  {
   "cell_type": "code",
   "execution_count": 18,
   "metadata": {},
   "outputs": [
    {
     "data": {
      "text/plain": [
       "Text(0.5, 1.0, 'Top 15 Countries as per number of death cases ')"
      ]
     },
     "execution_count": 18,
     "metadata": {},
     "output_type": "execute_result"
    },
    {
     "data": {
      "image/png": "[encoded data removed]",
      "text/plain": [
       "<Figure size 1800x720 with 2 Axes>"
      ]
     },
     "metadata": {
      "needs_background": "light"
     },
     "output_type": "display_data"
    }
   ],
   "source": [
    "fig,(ax1,ax2) = plt.subplots(1,2,figsize=(25,10))\n",
    "top_15confirmed = countrywise.sort_values(['Total Cases'],ascending=False).head(15)\n",
    "top_15deaths = countrywise.sort_values(['Total Deaths'],ascending=False).head(15)\n",
    "sns.barplot(x=top_15confirmed['Total Cases'],y =top_15confirmed.index,ax=ax1)\n",
    "ax1.set_title(\"Top 15 Countries as per number of confirmed cases \")\n",
    "sns.barplot(x=top_15deaths['Total Deaths'],y =top_15confirmed.index,ax=ax2)\n",
    "ax2.set_title(\"Top 15 Countries as per number of death cases \")"
   ]
  },
  {
   "cell_type": "code",
   "execution_count": 19,
   "metadata": {},
   "outputs": [],
   "source": [
    "datewise[\"Days Since\"] = datewise.index-datewise.index[0]\n",
    "datewise[\"Days Since\"] = datewise[\"Days Since\"].dt.days\n",
    "train_ml = datewise.iloc[:int(datewise.shape[0]*0.95)]\n",
    "valid_ml = datewise.iloc[:int(datewise.shape[0]*0.95)]\n",
    "model_scores=[]\n"
   ]
  },
  {
   "cell_type": "markdown",
   "metadata": {},
   "source": [
    "# Model Selection:\n",
    "There are around 60+ predictive modeling algorithms that are available to choose from. We must have a good understanding of our data and the desired solution we are looking for, to narrow down our model selection. Here our goal is to predict the number of covid cases which can be increase exponetially. This scenario is a classic example of Time Series Analysis.\n",
    "\n",
    "We are provided with 23688 rows of the labeled dataset tagged with the output column “cases” to train our model. Whenever the dataset is labeled and output feature is known, we opt for the Supervised Learning Machine Learning technique. So, our use-case is a Supervised Learning plus Linear problem. Based on these criteria we can narrow down our choice of models to a few:\n",
    "\n",
    "Linear Regression\n",
    "\n",
    "SVR()\n",
    "\n",
    "Holt()"
   ]
  },
  {
   "cell_type": "code",
   "execution_count": 20,
   "metadata": {},
   "outputs": [
    {
     "name": "stderr",
     "output_type": "stream",
     "text": [
      "C:\\ProgramData\\Anaconda3\\lib\\site-packages\\sklearn\\utils\\validation.py:760: DataConversionWarning: A column-vector y was passed when a 1d array was expected. Please change the shape of y to (n_samples, ), for example using ravel().\n",
      "  y = column_or_1d(y, warn=True)\n"
     ]
    },
    {
     "data": {
      "text/plain": [
       "SVR(C=1, cache_size=200, coef0=0.0, degree=5, epsilon=0.001, gamma='scale',\n",
       "    kernel='poly', max_iter=-1, shrinking=True, tol=0.001, verbose=False)"
      ]
     },
     "execution_count": 20,
     "metadata": {},
     "output_type": "execute_result"
    }
   ],
   "source": [
    "lin_reg = LinearRegression(normalize = True)\n",
    "svm = SVR(C=1,degree=5,kernel='poly',epsilon = 0.001)\n",
    "lin_reg.fit(np.array(train_ml[\"Days Since\"]).reshape(-1,1),np.array(train_ml[\"Total Cases\"]).reshape(-1,1))\n",
    "svm.fit(np.array(train_ml[\"Days Since\"]).reshape(-1,1),np.array(train_ml[\"Total Cases\"]).reshape(-1,1))"
   ]
  },
  {
   "cell_type": "code",
   "execution_count": 21,
   "metadata": {},
   "outputs": [],
   "source": [
    "prediction_valid_lin_reg = lin_reg.predict(np.array(valid_ml[\"Days Since\"]).reshape(-1,1))\n",
    "prediction_valid_svm = svm.predict(np.array(valid_ml[\"Days Since\"]).reshape(-1,1))"
   ]
  },
  {
   "cell_type": "code",
   "execution_count": 22,
   "metadata": {},
   "outputs": [
    {
     "data": {
      "text/html": [
       "<div>\n",
       "<style scoped>\n",
       "    .dataframe tbody tr th:only-of-type {\n",
       "        vertical-align: middle;\n",
       "    }\n",
       "\n",
       "    .dataframe tbody tr th {\n",
       "        vertical-align: top;\n",
       "    }\n",
       "\n",
       "    .dataframe thead th {\n",
       "        text-align: right;\n",
       "    }\n",
       "</style>\n",
       "<table border=\"1\" class=\"dataframe\">\n",
       "  <thead>\n",
       "    <tr style=\"text-align: right;\">\n",
       "      <th></th>\n",
       "      <th>Dates</th>\n",
       "      <th>LR</th>\n",
       "      <th>SVR</th>\n",
       "    </tr>\n",
       "  </thead>\n",
       "  <tbody>\n",
       "    <tr>\n",
       "      <th>0</th>\n",
       "      <td>2020-05-19</td>\n",
       "      <td>4937546</td>\n",
       "      <td>4928722</td>\n",
       "    </tr>\n",
       "    <tr>\n",
       "      <th>1</th>\n",
       "      <td>2020-05-20</td>\n",
       "      <td>5022571</td>\n",
       "      <td>5182603</td>\n",
       "    </tr>\n",
       "    <tr>\n",
       "      <th>2</th>\n",
       "      <td>2020-05-21</td>\n",
       "      <td>5107597</td>\n",
       "      <td>5470283</td>\n",
       "    </tr>\n",
       "    <tr>\n",
       "      <th>3</th>\n",
       "      <td>2020-05-22</td>\n",
       "      <td>5192623</td>\n",
       "      <td>5795029</td>\n",
       "    </tr>\n",
       "    <tr>\n",
       "      <th>4</th>\n",
       "      <td>2020-05-23</td>\n",
       "      <td>5277648</td>\n",
       "      <td>6160312</td>\n",
       "    </tr>\n",
       "    <tr>\n",
       "      <th>5</th>\n",
       "      <td>2020-05-24</td>\n",
       "      <td>5362674</td>\n",
       "      <td>6569814</td>\n",
       "    </tr>\n",
       "    <tr>\n",
       "      <th>6</th>\n",
       "      <td>2020-05-25</td>\n",
       "      <td>5447700</td>\n",
       "      <td>7027433</td>\n",
       "    </tr>\n",
       "    <tr>\n",
       "      <th>7</th>\n",
       "      <td>2020-05-26</td>\n",
       "      <td>5532725</td>\n",
       "      <td>7537292</td>\n",
       "    </tr>\n",
       "    <tr>\n",
       "      <th>8</th>\n",
       "      <td>2020-05-27</td>\n",
       "      <td>5617751</td>\n",
       "      <td>8103740</td>\n",
       "    </tr>\n",
       "    <tr>\n",
       "      <th>9</th>\n",
       "      <td>2020-05-28</td>\n",
       "      <td>5702777</td>\n",
       "      <td>8731362</td>\n",
       "    </tr>\n",
       "  </tbody>\n",
       "</table>\n",
       "</div>"
      ],
      "text/plain": [
       "       Dates      LR     SVR\n",
       "0 2020-05-19 4937546 4928722\n",
       "1 2020-05-20 5022571 5182603\n",
       "2 2020-05-21 5107597 5470283\n",
       "3 2020-05-22 5192623 5795029\n",
       "4 2020-05-23 5277648 6160312\n",
       "5 2020-05-24 5362674 6569814\n",
       "6 2020-05-25 5447700 7027433\n",
       "7 2020-05-26 5532725 7537292\n",
       "8 2020-05-27 5617751 8103740\n",
       "9 2020-05-28 5702777 8731362"
      ]
     },
     "execution_count": 22,
     "metadata": {},
     "output_type": "execute_result"
    }
   ],
   "source": [
    "new_date = []\n",
    "new_prediction_lr =[]\n",
    "new_prediction_svm = []\n",
    "for i in range (1,18):\n",
    "    new_date.append(datewise.index[-1]+timedelta(days=i))\n",
    "    new_prediction_lr.append(lin_reg.predict(np.array(datewise[\"Days Since\"].max()+i).reshape(-1,1))[0][0])\n",
    "    new_prediction_svm.append(svm.predict(np.array(datewise[\"Days Since\"].max()+i).reshape(-1,1))[0])\n",
    "    \n",
    "pd.set_option(\"display.float_format\",lambda x: '%.f'%x)\n",
    "model_predictions = pd.DataFrame(zip(new_date,new_prediction_lr,new_prediction_svm),columns = [\"Dates\",\"LR\",\"SVR\"])\n",
    "model_predictions.head(10)\n"
   ]
  },
  {
   "cell_type": "markdown",
   "metadata": {},
   "source": [
    "# Splitting Data:\n",
    "we split our data into a test set and train set. which helps to better train the model and test its performance. test_size=0.85 creates a test data set with 15% of the data we have and the remaining 85% percent will be our training set to train our model. This split function returns us model_train and Valid "
   ]
  },
  {
   "cell_type": "code",
   "execution_count": 23,
   "metadata": {},
   "outputs": [],
   "source": [
    "model_train = datewise.iloc[:int(datewise.shape[0]*0.85)]\n",
    "valid = datewise.iloc[int(datewise.shape[0]*0.85):]\n"
   ]
  },
  {
   "cell_type": "code",
   "execution_count": 24,
   "metadata": {},
   "outputs": [
    {
     "name": "stderr",
     "output_type": "stream",
     "text": [
      "C:\\ProgramData\\Anaconda3\\lib\\site-packages\\statsmodels\\tsa\\holtwinters.py:731: RuntimeWarning: invalid value encountered in greater_equal\n",
      "  loc = initial_p >= ub\n"
     ]
    }
   ],
   "source": [
    "holt = Holt(np.array(model_train[\"Total Cases\"])).fit(smoothing_slope = 0.2)\n",
    "y_pred = valid.copy()\n",
    "y_pred['Holt'] = holt.forecast(len(valid))"
   ]
  },
  {
   "cell_type": "code",
   "execution_count": 25,
   "metadata": {},
   "outputs": [
    {
     "data": {
      "text/html": [
       "<div>\n",
       "<style scoped>\n",
       "    .dataframe tbody tr th:only-of-type {\n",
       "        vertical-align: middle;\n",
       "    }\n",
       "\n",
       "    .dataframe tbody tr th {\n",
       "        vertical-align: top;\n",
       "    }\n",
       "\n",
       "    .dataframe thead th {\n",
       "        text-align: right;\n",
       "    }\n",
       "</style>\n",
       "<table border=\"1\" class=\"dataframe\">\n",
       "  <thead>\n",
       "    <tr style=\"text-align: right;\">\n",
       "      <th></th>\n",
       "      <th>Dates</th>\n",
       "      <th>LR</th>\n",
       "      <th>SVR</th>\n",
       "      <th>Holts Linear Model Predictions</th>\n",
       "    </tr>\n",
       "  </thead>\n",
       "  <tbody>\n",
       "    <tr>\n",
       "      <th>0</th>\n",
       "      <td>2020-05-19</td>\n",
       "      <td>4937546</td>\n",
       "      <td>4928722</td>\n",
       "      <td>4936291</td>\n",
       "    </tr>\n",
       "    <tr>\n",
       "      <th>1</th>\n",
       "      <td>2020-05-20</td>\n",
       "      <td>5022571</td>\n",
       "      <td>5182603</td>\n",
       "      <td>5021517</td>\n",
       "    </tr>\n",
       "    <tr>\n",
       "      <th>2</th>\n",
       "      <td>2020-05-21</td>\n",
       "      <td>5107597</td>\n",
       "      <td>5470283</td>\n",
       "      <td>5106743</td>\n",
       "    </tr>\n",
       "    <tr>\n",
       "      <th>3</th>\n",
       "      <td>2020-05-22</td>\n",
       "      <td>5192623</td>\n",
       "      <td>5795029</td>\n",
       "      <td>5191969</td>\n",
       "    </tr>\n",
       "    <tr>\n",
       "      <th>4</th>\n",
       "      <td>2020-05-23</td>\n",
       "      <td>5277648</td>\n",
       "      <td>6160312</td>\n",
       "      <td>5277195</td>\n",
       "    </tr>\n",
       "    <tr>\n",
       "      <th>5</th>\n",
       "      <td>2020-05-24</td>\n",
       "      <td>5362674</td>\n",
       "      <td>6569814</td>\n",
       "      <td>5362420</td>\n",
       "    </tr>\n",
       "    <tr>\n",
       "      <th>6</th>\n",
       "      <td>2020-05-25</td>\n",
       "      <td>5447700</td>\n",
       "      <td>7027433</td>\n",
       "      <td>5447646</td>\n",
       "    </tr>\n",
       "    <tr>\n",
       "      <th>7</th>\n",
       "      <td>2020-05-26</td>\n",
       "      <td>5532725</td>\n",
       "      <td>7537292</td>\n",
       "      <td>5532872</td>\n",
       "    </tr>\n",
       "    <tr>\n",
       "      <th>8</th>\n",
       "      <td>2020-05-27</td>\n",
       "      <td>5617751</td>\n",
       "      <td>8103740</td>\n",
       "      <td>5618098</td>\n",
       "    </tr>\n",
       "    <tr>\n",
       "      <th>9</th>\n",
       "      <td>2020-05-28</td>\n",
       "      <td>5702777</td>\n",
       "      <td>8731362</td>\n",
       "      <td>5703324</td>\n",
       "    </tr>\n",
       "    <tr>\n",
       "      <th>10</th>\n",
       "      <td>2020-05-29</td>\n",
       "      <td>5787802</td>\n",
       "      <td>9424984</td>\n",
       "      <td>5788550</td>\n",
       "    </tr>\n",
       "    <tr>\n",
       "      <th>11</th>\n",
       "      <td>2020-05-30</td>\n",
       "      <td>5872828</td>\n",
       "      <td>10189680</td>\n",
       "      <td>5873776</td>\n",
       "    </tr>\n",
       "    <tr>\n",
       "      <th>12</th>\n",
       "      <td>2020-05-31</td>\n",
       "      <td>5957854</td>\n",
       "      <td>11030777</td>\n",
       "      <td>5959002</td>\n",
       "    </tr>\n",
       "    <tr>\n",
       "      <th>13</th>\n",
       "      <td>2020-06-01</td>\n",
       "      <td>6042879</td>\n",
       "      <td>11953863</td>\n",
       "      <td>6044228</td>\n",
       "    </tr>\n",
       "    <tr>\n",
       "      <th>14</th>\n",
       "      <td>2020-06-02</td>\n",
       "      <td>6127905</td>\n",
       "      <td>12964791</td>\n",
       "      <td>6129454</td>\n",
       "    </tr>\n",
       "    <tr>\n",
       "      <th>15</th>\n",
       "      <td>2020-06-03</td>\n",
       "      <td>6212931</td>\n",
       "      <td>14069686</td>\n",
       "      <td>6214680</td>\n",
       "    </tr>\n",
       "  </tbody>\n",
       "</table>\n",
       "</div>"
      ],
      "text/plain": [
       "        Dates      LR      SVR  Holts Linear Model Predictions \n",
       "0  2020-05-19 4937546  4928722                          4936291\n",
       "1  2020-05-20 5022571  5182603                          5021517\n",
       "2  2020-05-21 5107597  5470283                          5106743\n",
       "3  2020-05-22 5192623  5795029                          5191969\n",
       "4  2020-05-23 5277648  6160312                          5277195\n",
       "5  2020-05-24 5362674  6569814                          5362420\n",
       "6  2020-05-25 5447700  7027433                          5447646\n",
       "7  2020-05-26 5532725  7537292                          5532872\n",
       "8  2020-05-27 5617751  8103740                          5618098\n",
       "9  2020-05-28 5702777  8731362                          5703324\n",
       "10 2020-05-29 5787802  9424984                          5788550\n",
       "11 2020-05-30 5872828 10189680                          5873776\n",
       "12 2020-05-31 5957854 11030777                          5959002\n",
       "13 2020-06-01 6042879 11953863                          6044228\n",
       "14 2020-06-02 6127905 12964791                          6129454\n",
       "15 2020-06-03 6212931 14069686                          6214680"
      ]
     },
     "execution_count": 25,
     "metadata": {},
     "output_type": "execute_result"
    }
   ],
   "source": [
    "holt_new_date=[]\n",
    "holt_new_predictions =[]\n",
    "for i in range(1,18):\n",
    "    holt_new_date.append(datewise.index[-1]+timedelta(days = i))\n",
    "    holt_new_predictions.append(holt.forecast((len(valid)+i))[-1])\n",
    "\n",
    "model_predictions[\"Holts Linear Model Predictions \"] = holt_new_predictions    \n",
    "model_predictions.head(16)\n",
    "    "
   ]
  },
  {
   "cell_type": "markdown",
   "metadata": {},
   "source": [
    "# Save the model using Pickle"
   ]
  },
  {
   "cell_type": "code",
   "execution_count": 26,
   "metadata": {},
   "outputs": [],
   "source": [
    "# Save the model using pickle\n",
    "import pickle\n",
    "\n",
    "filename = \"pickleholt_randomfile.pkl\"\n",
    "pickle.dump(holt, open(filename, 'wb'))\n"
   ]
  },
  {
   "cell_type": "markdown",
   "metadata": {},
   "source": [
    "# Conclusion"
   ]
  },
  {
   "cell_type": "markdown",
   "metadata": {},
   "source": [
    "Finally! we successfully created a Regression Machine Learning prediction model using Python and its powerful libraries which predicts the number of covid cases on time stamp."
   ]
  }
 ],
 "metadata": {
  "kernelspec": {
   "display_name": "Python 3",
   "language": "python",
   "name": "python3"
  },
  "language_info": {
   "codemirror_mode": {
    "name": "ipython",
    "version": 3
   },
   "file_extension": ".py",
   "mimetype": "text/x-python",
   "name": "python",
   "nbconvert_exporter": "python",
   "pygments_lexer": "ipython3",
   "version": "3.7.6"
  }
 },
 "nbformat": 4,
 "nbformat_minor": 4
}
